{
 "cells": [
  {
   "cell_type": "code",
   "execution_count": 1,
   "metadata": {},
   "outputs": [],
   "source": [
    "import random\n",
    "import numpy as np\n",
    "import matplotlib.pyplot as plt\n",
    "from lazygrad import MLP, Value\n",
    "import pandas as pd\n",
    "import edamame as eda \n",
    "%matplotlib inline\n",
    "np.random.seed(1337)\n",
    "random.seed(1337)"
   ]
  },
  {
   "attachments": {},
   "cell_type": "markdown",
   "metadata": {},
   "source": [
    "### Dataset \n",
    "\n",
    "[link for the data](https://www.kaggle.com/datasets/quantbruce/real-estate-price-prediction?resource=download)"
   ]
  },
  {
   "cell_type": "code",
   "execution_count": 2,
   "metadata": {},
   "outputs": [
    {
     "name": "stdout",
     "output_type": "stream",
     "text": [
      "(414, 6)\n"
     ]
    },
    {
     "data": {
      "text/html": [
       "<div>\n",
       "<style scoped>\n",
       "    .dataframe tbody tr th:only-of-type {\n",
       "        vertical-align: middle;\n",
       "    }\n",
       "\n",
       "    .dataframe tbody tr th {\n",
       "        vertical-align: top;\n",
       "    }\n",
       "\n",
       "    .dataframe thead th {\n",
       "        text-align: right;\n",
       "    }\n",
       "</style>\n",
       "<table border=\"1\" class=\"dataframe\">\n",
       "  <thead>\n",
       "    <tr style=\"text-align: right;\">\n",
       "      <th></th>\n",
       "      <th>X1 transaction date</th>\n",
       "      <th>X2 house age</th>\n",
       "      <th>X3 distance to the nearest MRT station</th>\n",
       "      <th>X4 number of convenience stores</th>\n",
       "      <th>X5 latitude</th>\n",
       "      <th>X6 longitude</th>\n",
       "    </tr>\n",
       "  </thead>\n",
       "  <tbody>\n",
       "    <tr>\n",
       "      <th>0</th>\n",
       "      <td>-0.823683</td>\n",
       "      <td>1.255628</td>\n",
       "      <td>-0.792495</td>\n",
       "      <td>2.007407</td>\n",
       "      <td>1.125430</td>\n",
       "      <td>0.448762</td>\n",
       "    </tr>\n",
       "    <tr>\n",
       "      <th>1</th>\n",
       "      <td>-0.823683</td>\n",
       "      <td>0.157086</td>\n",
       "      <td>-0.616612</td>\n",
       "      <td>1.667503</td>\n",
       "      <td>0.912444</td>\n",
       "      <td>0.401139</td>\n",
       "    </tr>\n",
       "    <tr>\n",
       "      <th>2</th>\n",
       "      <td>1.541151</td>\n",
       "      <td>-0.387791</td>\n",
       "      <td>-0.414015</td>\n",
       "      <td>0.307885</td>\n",
       "      <td>1.486860</td>\n",
       "      <td>0.688183</td>\n",
       "    </tr>\n",
       "    <tr>\n",
       "      <th>3</th>\n",
       "      <td>1.246435</td>\n",
       "      <td>-0.387791</td>\n",
       "      <td>-0.414015</td>\n",
       "      <td>0.307885</td>\n",
       "      <td>1.486860</td>\n",
       "      <td>0.688183</td>\n",
       "    </tr>\n",
       "    <tr>\n",
       "      <th>4</th>\n",
       "      <td>-1.121951</td>\n",
       "      <td>-1.117223</td>\n",
       "      <td>-0.549997</td>\n",
       "      <td>0.307885</td>\n",
       "      <td>0.834188</td>\n",
       "      <td>0.592937</td>\n",
       "    </tr>\n",
       "  </tbody>\n",
       "</table>\n",
       "</div>"
      ],
      "text/plain": [
       "   X1 transaction date  X2 house age  X3 distance to the nearest MRT station  \\\n",
       "0            -0.823683      1.255628                               -0.792495   \n",
       "1            -0.823683      0.157086                               -0.616612   \n",
       "2             1.541151     -0.387791                               -0.414015   \n",
       "3             1.246435     -0.387791                               -0.414015   \n",
       "4            -1.121951     -1.117223                               -0.549997   \n",
       "\n",
       "   X4 number of convenience stores  X5 latitude  X6 longitude  \n",
       "0                         2.007407     1.125430      0.448762  \n",
       "1                         1.667503     0.912444      0.401139  \n",
       "2                         0.307885     1.486860      0.688183  \n",
       "3                         0.307885     1.486860      0.688183  \n",
       "4                         0.307885     0.834188      0.592937  "
      ]
     },
     "execution_count": 2,
     "metadata": {},
     "output_type": "execute_result"
    }
   ],
   "source": [
    "df_x = pd.read_csv(\"data/x.csv\", sep=\";\")\n",
    "print(df_x.shape)\n",
    "df_x.head()"
   ]
  },
  {
   "cell_type": "code",
   "execution_count": 3,
   "metadata": {},
   "outputs": [
    {
     "name": "stdout",
     "output_type": "stream",
     "text": [
      "(414, 6)\n"
     ]
    }
   ],
   "source": [
    "# convert pandas dataframe to numpy\n",
    "x = df_x.to_numpy()\n",
    "print(x.shape)"
   ]
  },
  {
   "cell_type": "code",
   "execution_count": 8,
   "metadata": {},
   "outputs": [
    {
     "name": "stdout",
     "output_type": "stream",
     "text": [
      "(414,)\n"
     ]
    }
   ],
   "source": [
    "df_y = pd.read_csv(\"data/y.csv\", sep=\";\")\n",
    "y = np.log(df_y.to_numpy().squeeze())\n",
    "print(y.shape)"
   ]
  },
  {
   "cell_type": "code",
   "execution_count": 9,
   "metadata": {},
   "outputs": [
    {
     "data": {
      "image/png": "[encoded data removed]",
      "text/plain": [
       "<Figure size 432x288 with 1 Axes>"
      ]
     },
     "metadata": {
      "needs_background": "light"
     },
     "output_type": "display_data"
    }
   ],
   "source": [
    "plt.hist(y)\n",
    "plt.show()"
   ]
  },
  {
   "attachments": {},
   "cell_type": "markdown",
   "metadata": {},
   "source": [
    "### Model"
   ]
  },
  {
   "cell_type": "code",
   "execution_count": 10,
   "metadata": {},
   "outputs": [
    {
     "name": "stdout",
     "output_type": "stream",
     "text": [
      "MLP of [Layer of [ReLUNeuron(6), ReLUNeuron(6), ReLUNeuron(6), ReLUNeuron(6), ReLUNeuron(6), ReLUNeuron(6), ReLUNeuron(6), ReLUNeuron(6), ReLUNeuron(6), ReLUNeuron(6), ReLUNeuron(6), ReLUNeuron(6), ReLUNeuron(6), ReLUNeuron(6), ReLUNeuron(6), ReLUNeuron(6)], Layer of [LinearNeuron(16)]]\n",
      "number of parameters 129\n"
     ]
    }
   ],
   "source": [
    "# initialize a model \n",
    "model = MLP(6, [16, 1]) # 2-layer neural network\n",
    "print(model)\n",
    "print(\"number of parameters\", len(model.parameters()))"
   ]
  }
 ],
 "metadata": {
  "kernelspec": {
   "display_name": "base",
   "language": "python",
   "name": "python3"
  },
  "language_info": {
   "codemirror_mode": {
    "name": "ipython",
    "version": 3
   },
   "file_extension": ".py",
   "mimetype": "text/x-python",
   "name": "python",
   "nbconvert_exporter": "python",
   "pygments_lexer": "ipython3",
   "version": "3.9.12"
  },
  "orig_nbformat": 4
 },
 "nbformat": 4,
 "nbformat_minor": 2
}
