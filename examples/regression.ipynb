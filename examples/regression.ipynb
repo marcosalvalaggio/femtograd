{
 "cells": [
  {
   "cell_type": "code",
   "execution_count": 1,
   "id": "892b5c7e",
   "metadata": {},
   "outputs": [],
   "source": [
    "from sklearn.datasets import make_regression\n",
    "from kiwigrad import MLP, Layer, Value\n",
    "from sklearn.metrics import r2_score"
   ]
  },
  {
   "cell_type": "code",
   "execution_count": 2,
   "id": "29291c75",
   "metadata": {},
   "outputs": [
    {
     "name": "stdout",
     "output_type": "stream",
     "text": [
      "(200, 5)\n",
      "(200,)\n",
      "[0.95927083 0.02451017 0.49799829 1.45114361 2.15318246]\n",
      "[172.54436082 -52.9529574   -4.14935233 193.99958991 -66.96262773]\n"
     ]
    }
   ],
   "source": [
    "X, y = make_regression(n_samples=200, n_features=5, n_targets=1, random_state=42)\n",
    "print(X.shape)\n",
    "print(y.shape)\n",
    "print(X[0])\n",
    "print(y[0:5])"
   ]
  },
  {
   "cell_type": "code",
   "execution_count": 3,
   "id": "33a6515c",
   "metadata": {},
   "outputs": [
    {
     "data": {
      "text/plain": [
       "[Value(data=0.959271, grad=0.000000),\n",
       " Value(data=0.024510, grad=0.000000),\n",
       " Value(data=0.497998, grad=0.000000),\n",
       " Value(data=1.451144, grad=0.000000),\n",
       " Value(data=2.153182, grad=0.000000)]"
      ]
     },
     "execution_count": 3,
     "metadata": {},
     "output_type": "execute_result"
    }
   ],
   "source": [
    "inputs = [[Value(i) for i in elem] for elem in X]\n",
    "inputs[0]"
   ]
  },
  {
   "cell_type": "code",
   "execution_count": 4,
   "id": "1295426f",
   "metadata": {},
   "outputs": [
    {
     "name": "stdout",
     "output_type": "stream",
     "text": [
      "Value(data=-6.140022, grad=0.000000)\n"
     ]
    }
   ],
   "source": [
    "class PotNet(MLP):\n",
    "    def __init__(self):\n",
    "        layers = [\n",
    "            Layer(nin=5, nout=16, bias=True, activation=\"relu\"),\n",
    "            Layer(nin=16, nout=16, bias=True, activation=\"relu\"),\n",
    "            Layer(nin=16, nout=1, bias=True, activation=\"linear\")\n",
    "        ]\n",
    "        super().__init__(layers=layers)\n",
    "\n",
    "model = PotNet()\n",
    "y_pred = model(inputs[0])\n",
    "print(y_pred)"
   ]
  },
  {
   "cell_type": "code",
   "execution_count": 5,
   "id": "7608bcf7",
   "metadata": {},
   "outputs": [
    {
     "name": "stdout",
     "output_type": "stream",
     "text": [
      "e: 0 | l: -2.58\n",
      "e: 10 | l: -3.20\n",
      "e: 20 | l: -1.96\n",
      "e: 30 | l: -1.83\n",
      "e: 40 | l: -1.62\n",
      "e: 50 | l: -1.53\n",
      "e: 60 | l: -1.43\n",
      "e: 70 | l: -1.36\n",
      "e: 80 | l: -1.27\n",
      "e: 90 | l: -1.11\n"
     ]
    }
   ],
   "source": [
    "epochs = 100\n",
    "for epoch in range(epochs):\n",
    "    y_pred = []\n",
    "    for i in range(len(inputs)):\n",
    "        output = model(inputs[i])\n",
    "        y_pred.append(output.data)\n",
    "        target = Value(y[i])\n",
    "        loss = output - target\n",
    "        loss_e = loss * loss\n",
    "        loss_e.backward()\n",
    "        for p in model.parameters():\n",
    "            p.data += -0.0001 * p.grad\n",
    "        model.zero_grad()\n",
    "    if epoch % 10 == 0:\n",
    "        print(f\"e: {epoch} | l: {loss.data:.2f}\")"
   ]
  },
  {
   "cell_type": "code",
   "execution_count": 6,
   "id": "f3f5bbd3",
   "metadata": {},
   "outputs": [
    {
     "data": {
      "text/plain": [
       "0.999931088402729"
      ]
     },
     "execution_count": 6,
     "metadata": {},
     "output_type": "execute_result"
    }
   ],
   "source": [
    "r2 = r2_score(y, y_pred)\n",
    "r2"
   ]
  },
  {
   "cell_type": "code",
   "execution_count": 7,
   "id": "31d9c136",
   "metadata": {},
   "outputs": [
    {
     "name": "stdout",
     "output_type": "stream",
     "text": [
      "193.99958991165147 193.48169808138405\n"
     ]
    }
   ],
   "source": [
    "idx = 3\n",
    "print(y[idx], y_pred[idx])"
   ]
  }
 ],
 "metadata": {
  "kernelspec": {
   "display_name": "Python 3 (ipykernel)",
   "language": "python",
   "name": "python3"
  },
  "language_info": {
   "codemirror_mode": {
    "name": "ipython",
    "version": 3
   },
   "file_extension": ".py",
   "mimetype": "text/x-python",
   "name": "python",
   "nbconvert_exporter": "python",
   "pygments_lexer": "ipython3",
   "version": "3.9.12"
  }
 },
 "nbformat": 4,
 "nbformat_minor": 5
}
