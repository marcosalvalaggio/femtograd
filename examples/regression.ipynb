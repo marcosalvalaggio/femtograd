{
 "cells": [
  {
   "cell_type": "markdown",
   "id": "4785376b",
   "metadata": {},
   "source": [
    "## Regression"
   ]
  },
  {
   "cell_type": "code",
   "execution_count": 1,
   "id": "892b5c7e",
   "metadata": {},
   "outputs": [],
   "source": [
    "from sklearn.datasets import make_regression\n",
    "from kiwigrad import MLP, Layer, Value\n",
    "from sklearn.metrics import r2_score\n",
    "import matplotlib.pyplot as plt\n",
    "import time\n",
    "import pandas as pd\n",
    "%matplotlib inline"
   ]
  },
  {
   "cell_type": "markdown",
   "id": "206adf7e",
   "metadata": {},
   "source": [
    "### Dataset"
   ]
  },
  {
   "cell_type": "code",
   "execution_count": 2,
   "id": "29291c75",
   "metadata": {},
   "outputs": [
    {
     "name": "stdout",
     "output_type": "stream",
     "text": [
      "(200, 5)\n",
      "(200,)\n",
      "[0.95927083 0.02451017 0.49799829 1.45114361 2.15318246]\n",
      "[172.54436082 -52.9529574   -4.14935233 193.99958991 -66.96262773]\n"
     ]
    }
   ],
   "source": [
    "X, y = make_regression(n_samples=200, n_features=5, n_targets=1, random_state=42)\n",
    "print(X.shape)\n",
    "print(y.shape)\n",
    "print(X[0])\n",
    "print(y[0:5])"
   ]
  },
  {
   "cell_type": "code",
   "execution_count": 3,
   "id": "33a6515c",
   "metadata": {},
   "outputs": [
    {
     "data": {
      "text/plain": [
       "[Value(data=0.959271, grad=0.000000),\n",
       " Value(data=0.024510, grad=0.000000),\n",
       " Value(data=0.497998, grad=0.000000),\n",
       " Value(data=1.451144, grad=0.000000),\n",
       " Value(data=2.153182, grad=0.000000)]"
      ]
     },
     "execution_count": 3,
     "metadata": {},
     "output_type": "execute_result"
    }
   ],
   "source": [
    "inputs = [[Value(i) for i in elem] for elem in X]\n",
    "inputs[0]"
   ]
  },
  {
   "cell_type": "markdown",
   "id": "128c607c",
   "metadata": {},
   "source": [
    "### Multi layer perceptron"
   ]
  },
  {
   "cell_type": "code",
   "execution_count": 4,
   "id": "1295426f",
   "metadata": {},
   "outputs": [
    {
     "name": "stdout",
     "output_type": "stream",
     "text": [
      "Value(data=-2.243560, grad=0.000000)\n"
     ]
    }
   ],
   "source": [
    "class PotNet(MLP):\n",
    "    def __init__(self):\n",
    "        layers = [\n",
    "            Layer(nin=5, nout=16, bias=True, activation=\"relu\"),\n",
    "            Layer(nin=16, nout=16, bias=True, activation=\"relu\"),\n",
    "            Layer(nin=16, nout=1, bias=True, activation=\"linear\")\n",
    "        ]\n",
    "        super().__init__(layers=layers)\n",
    "\n",
    "model = PotNet()\n",
    "y_pred = model(inputs[0])\n",
    "print(y_pred)"
   ]
  },
  {
   "cell_type": "markdown",
   "id": "aaf94b9a",
   "metadata": {},
   "source": [
    "### Full batch gradient descent with squared error loss\n",
    "\n",
    "Squared error (squared L2 norm):\n",
    "\n",
    "$$ l(x,y) = L = (\\hat{y}_i - y_i)^2$$\n",
    "\n"
   ]
  },
  {
   "cell_type": "code",
   "execution_count": 5,
   "id": "7608bcf7",
   "metadata": {},
   "outputs": [
    {
     "name": "stdout",
     "output_type": "stream",
     "text": [
      "epoch: 0 | loss: 8976.85 | R2: 0.02 | time: 0.07 sec.\n",
      "epoch: 10 | loss: 83.42 | R2: 0.99 | time: 0.06 sec.\n",
      "epoch: 20 | loss: 31.00 | R2: 1.00 | time: 0.07 sec.\n",
      "epoch: 30 | loss: 16.73 | R2: 1.00 | time: 0.06 sec.\n",
      "epoch: 40 | loss: 10.85 | R2: 1.00 | time: 0.07 sec.\n",
      "epoch: 50 | loss: 7.60 | R2: 1.00 | time: 0.07 sec.\n",
      "epoch: 60 | loss: 5.67 | R2: 1.00 | time: 0.07 sec.\n",
      "epoch: 70 | loss: 4.50 | R2: 1.00 | time: 0.07 sec.\n",
      "epoch: 80 | loss: 3.73 | R2: 1.00 | time: 0.07 sec.\n",
      "epoch: 90 | loss: 3.18 | R2: 1.00 | time: 0.08 sec.\n",
      "epoch: 99 | loss: 2.80 | R2: 1.00 | time: 0.08 sec.\n"
     ]
    }
   ],
   "source": [
    "epochs = 100\n",
    "for epoch in range(epochs):\n",
    "    y_pred = []\n",
    "    losses = []\n",
    "    s = time.monotonic()\n",
    "    for i in range(len(inputs)):\n",
    "        output = model(inputs[i])\n",
    "        y_pred.append(output.data)\n",
    "        target = Value(y[i])\n",
    "        loss = (output - target) ** 2\n",
    "        losses.append(loss.data)\n",
    "        #loss = (output - target) * (output - target)\n",
    "        loss.backward()\n",
    "        for p in model.parameters():\n",
    "            p.data += -0.00001 * p.grad\n",
    "        model.zero_grad()\n",
    "    e = time.monotonic()\n",
    "    t = e - s\n",
    "    loss_epoch = sum(losses) / len(losses)\n",
    "    r2 = r2_score(y, y_pred)\n",
    "    if epoch % 10 == 0 or epoch == epochs-1:\n",
    "        print(f\"epoch: {epoch} | loss: {loss_epoch:.2f} | R2: {r2:.2f} | time: {t:.2f} sec.\")"
   ]
  },
  {
   "cell_type": "markdown",
   "id": "a9e14b88",
   "metadata": {},
   "source": [
    "### Result"
   ]
  },
  {
   "cell_type": "code",
   "execution_count": 6,
   "id": "5ea303fc",
   "metadata": {},
   "outputs": [
    {
     "data": {
      "image/png": "[encoded data removed]",
      "text/plain": [
       "<Figure size 432x288 with 1 Axes>"
      ]
     },
     "metadata": {
      "needs_background": "light"
     },
     "output_type": "display_data"
    }
   ],
   "source": [
    "x = [i for i in range(len(inputs))]\n",
    "plt.scatter(x, y)\n",
    "plt.scatter(x, y_pred, color='red', alpha=0.3)\n",
    "plt.show()"
   ]
  },
  {
   "cell_type": "markdown",
   "id": "f09e8bed",
   "metadata": {},
   "source": [
    "### Save & load the trainend model "
   ]
  },
  {
   "cell_type": "code",
   "execution_count": 7,
   "id": "1644eec7",
   "metadata": {},
   "outputs": [],
   "source": [
    "model.save()"
   ]
  },
  {
   "cell_type": "code",
   "execution_count": 8,
   "id": "b9f9317e",
   "metadata": {},
   "outputs": [
    {
     "name": "stdout",
     "output_type": "stream",
     "text": [
      "y_pred: 173.50, y_true: 172.54\n"
     ]
    }
   ],
   "source": [
    "new_model = PotNet()\n",
    "new_model.load(path=\"weights.pkl\")\n",
    "idx = 0\n",
    "new_y_pred = new_model(inputs[idx])\n",
    "print(f\"y_pred: {new_y_pred.data:.2f}, y_true: {y[idx]:.2f}\")"
   ]
  },
  {
   "cell_type": "markdown",
   "id": "6495abdb",
   "metadata": {},
   "source": [
    "## Real Data"
   ]
  },
  {
   "cell_type": "code",
   "execution_count": 9,
   "id": "aa9ea043",
   "metadata": {},
   "outputs": [
    {
     "name": "stdout",
     "output_type": "stream",
     "text": [
      "(414, 6)\n"
     ]
    },
    {
     "data": {
      "text/html": [
       "<div>\n",
       "<style scoped>\n",
       "    .dataframe tbody tr th:only-of-type {\n",
       "        vertical-align: middle;\n",
       "    }\n",
       "\n",
       "    .dataframe tbody tr th {\n",
       "        vertical-align: top;\n",
       "    }\n",
       "\n",
       "    .dataframe thead th {\n",
       "        text-align: right;\n",
       "    }\n",
       "</style>\n",
       "<table border=\"1\" class=\"dataframe\">\n",
       "  <thead>\n",
       "    <tr style=\"text-align: right;\">\n",
       "      <th></th>\n",
       "      <th>X1 transaction date</th>\n",
       "      <th>X2 house age</th>\n",
       "      <th>X3 distance to the nearest MRT station</th>\n",
       "      <th>X4 number of convenience stores</th>\n",
       "      <th>X5 latitude</th>\n",
       "      <th>X6 longitude</th>\n",
       "    </tr>\n",
       "  </thead>\n",
       "  <tbody>\n",
       "    <tr>\n",
       "      <th>0</th>\n",
       "      <td>-0.823683</td>\n",
       "      <td>1.255628</td>\n",
       "      <td>-0.792495</td>\n",
       "      <td>2.007407</td>\n",
       "      <td>1.125430</td>\n",
       "      <td>0.448762</td>\n",
       "    </tr>\n",
       "    <tr>\n",
       "      <th>1</th>\n",
       "      <td>-0.823683</td>\n",
       "      <td>0.157086</td>\n",
       "      <td>-0.616612</td>\n",
       "      <td>1.667503</td>\n",
       "      <td>0.912444</td>\n",
       "      <td>0.401139</td>\n",
       "    </tr>\n",
       "    <tr>\n",
       "      <th>2</th>\n",
       "      <td>1.541151</td>\n",
       "      <td>-0.387791</td>\n",
       "      <td>-0.414015</td>\n",
       "      <td>0.307885</td>\n",
       "      <td>1.486860</td>\n",
       "      <td>0.688183</td>\n",
       "    </tr>\n",
       "    <tr>\n",
       "      <th>3</th>\n",
       "      <td>1.246435</td>\n",
       "      <td>-0.387791</td>\n",
       "      <td>-0.414015</td>\n",
       "      <td>0.307885</td>\n",
       "      <td>1.486860</td>\n",
       "      <td>0.688183</td>\n",
       "    </tr>\n",
       "    <tr>\n",
       "      <th>4</th>\n",
       "      <td>-1.121951</td>\n",
       "      <td>-1.117223</td>\n",
       "      <td>-0.549997</td>\n",
       "      <td>0.307885</td>\n",
       "      <td>0.834188</td>\n",
       "      <td>0.592937</td>\n",
       "    </tr>\n",
       "  </tbody>\n",
       "</table>\n",
       "</div>"
      ],
      "text/plain": [
       "   X1 transaction date  X2 house age  X3 distance to the nearest MRT station  \\\n",
       "0            -0.823683      1.255628                               -0.792495   \n",
       "1            -0.823683      0.157086                               -0.616612   \n",
       "2             1.541151     -0.387791                               -0.414015   \n",
       "3             1.246435     -0.387791                               -0.414015   \n",
       "4            -1.121951     -1.117223                               -0.549997   \n",
       "\n",
       "   X4 number of convenience stores  X5 latitude  X6 longitude  \n",
       "0                         2.007407     1.125430      0.448762  \n",
       "1                         1.667503     0.912444      0.401139  \n",
       "2                         0.307885     1.486860      0.688183  \n",
       "3                         0.307885     1.486860      0.688183  \n",
       "4                         0.307885     0.834188      0.592937  "
      ]
     },
     "execution_count": 9,
     "metadata": {},
     "output_type": "execute_result"
    }
   ],
   "source": [
    "X = pd.read_csv(\"data/x.csv\", sep=\";\")\n",
    "print(X.shape)\n",
    "X.head()"
   ]
  },
  {
   "cell_type": "code",
   "execution_count": 10,
   "id": "43646ee8",
   "metadata": {},
   "outputs": [
    {
     "data": {
      "text/plain": [
       "[Value(data=-0.823683, grad=0.000000),\n",
       " Value(data=1.255628, grad=0.000000),\n",
       " Value(data=-0.792495, grad=0.000000),\n",
       " Value(data=2.007407, grad=0.000000),\n",
       " Value(data=1.125430, grad=0.000000),\n",
       " Value(data=0.448762, grad=0.000000)]"
      ]
     },
     "execution_count": 10,
     "metadata": {},
     "output_type": "execute_result"
    }
   ],
   "source": [
    "Xn = X.to_numpy().tolist()\n",
    "inputs = [[Value(i) for i in elem] for elem in Xn]\n",
    "inputs[0]"
   ]
  },
  {
   "cell_type": "code",
   "execution_count": 11,
   "id": "8c430ee8",
   "metadata": {},
   "outputs": [
    {
     "name": "stdout",
     "output_type": "stream",
     "text": [
      "(414,)\n"
     ]
    }
   ],
   "source": [
    "y = pd.read_csv(\"data/y.csv\", sep=\";\")\n",
    "y = y.to_numpy().squeeze()\n",
    "print(y.shape)"
   ]
  },
  {
   "cell_type": "code",
   "execution_count": 12,
   "id": "c345a082",
   "metadata": {},
   "outputs": [
    {
     "name": "stdout",
     "output_type": "stream",
     "text": [
      "Value(data=1.825113, grad=0.000000)\n"
     ]
    }
   ],
   "source": [
    "class PotNet(MLP):\n",
    "    def __init__(self):\n",
    "        layers = [\n",
    "            Layer(nin=6, nout=16, bias=True, activation=\"relu\"),\n",
    "            Layer(nin=16, nout=1, bias=True, activation=\"linear\")\n",
    "        ]\n",
    "        super().__init__(layers=layers)\n",
    "\n",
    "model = PotNet()\n",
    "y_pred = model(inputs[0])\n",
    "print(y_pred)"
   ]
  },
  {
   "cell_type": "code",
   "execution_count": 13,
   "id": "885b9a6c",
   "metadata": {},
   "outputs": [
    {
     "name": "stdout",
     "output_type": "stream",
     "text": [
      "epoch: 0 | loss: 1336.74 | R2: -6.24 | time: 0.07 sec.\n",
      "epoch: 10 | loss: 93.49 | R2: 0.49 | time: 0.05 sec.\n",
      "epoch: 20 | loss: 69.42 | R2: 0.62 | time: 0.05 sec.\n",
      "epoch: 30 | loss: 63.63 | R2: 0.66 | time: 0.05 sec.\n",
      "epoch: 40 | loss: 60.86 | R2: 0.67 | time: 0.05 sec.\n",
      "epoch: 50 | loss: 59.34 | R2: 0.68 | time: 0.05 sec.\n",
      "epoch: 60 | loss: 58.45 | R2: 0.68 | time: 0.05 sec.\n",
      "epoch: 70 | loss: 57.89 | R2: 0.69 | time: 0.05 sec.\n",
      "epoch: 80 | loss: 57.46 | R2: 0.69 | time: 0.05 sec.\n",
      "epoch: 90 | loss: 57.11 | R2: 0.69 | time: 0.05 sec.\n",
      "epoch: 100 | loss: 56.84 | R2: 0.69 | time: 0.05 sec.\n",
      "epoch: 110 | loss: 56.61 | R2: 0.69 | time: 0.05 sec.\n",
      "epoch: 120 | loss: 56.42 | R2: 0.69 | time: 0.05 sec.\n",
      "epoch: 130 | loss: 56.23 | R2: 0.70 | time: 0.05 sec.\n",
      "epoch: 140 | loss: 56.06 | R2: 0.70 | time: 0.05 sec.\n",
      "epoch: 150 | loss: 55.88 | R2: 0.70 | time: 0.05 sec.\n",
      "epoch: 160 | loss: 55.72 | R2: 0.70 | time: 0.05 sec.\n",
      "epoch: 170 | loss: 55.57 | R2: 0.70 | time: 0.05 sec.\n",
      "epoch: 180 | loss: 55.43 | R2: 0.70 | time: 0.05 sec.\n",
      "epoch: 190 | loss: 55.32 | R2: 0.70 | time: 0.05 sec.\n",
      "epoch: 199 | loss: 55.23 | R2: 0.70 | time: 0.05 sec.\n"
     ]
    }
   ],
   "source": [
    "epochs = 200\n",
    "for epoch in range(epochs):\n",
    "    y_pred = []\n",
    "    losses = []\n",
    "    s = time.monotonic()\n",
    "    for i in range(len(inputs)):\n",
    "        output = model(inputs[i])\n",
    "        y_pred.append(output.data)\n",
    "        target = Value(y[i])\n",
    "        loss = (output - target) ** 2\n",
    "        losses.append(loss.data)\n",
    "        #loss = (output - target) * (output - target)\n",
    "        loss.backward()\n",
    "        for p in model.parameters():\n",
    "            p.data += -0.00001 * p.grad\n",
    "        model.zero_grad()\n",
    "    e = time.monotonic()\n",
    "    t = e - s\n",
    "    loss_epoch = sum(losses) / len(losses)\n",
    "    r2 = r2_score(y, y_pred)\n",
    "    if epoch % 10 == 0 or epoch == epochs-1:\n",
    "        print(f\"epoch: {epoch} | loss: {loss_epoch:.2f} | R2: {r2:.2f} | time: {t:.2f} sec.\")"
   ]
  },
  {
   "cell_type": "code",
   "execution_count": 14,
   "id": "c93beaca",
   "metadata": {},
   "outputs": [
    {
     "data": {
      "image/png": "[encoded data removed]",
      "text/plain": [
       "<Figure size 432x288 with 1 Axes>"
      ]
     },
     "metadata": {
      "needs_background": "light"
     },
     "output_type": "display_data"
    }
   ],
   "source": [
    "x = [i for i in range(len(inputs))]\n",
    "# y true\n",
    "plt.scatter(x, y)\n",
    "# y pred\n",
    "plt.scatter(x, y_pred, color='red', alpha=0.3)\n",
    "plt.show()"
   ]
  }
 ],
 "metadata": {
  "kernelspec": {
   "display_name": "Python 3 (ipykernel)",
   "language": "python",
   "name": "python3"
  },
  "language_info": {
   "codemirror_mode": {
    "name": "ipython",
    "version": 3
   },
   "file_extension": ".py",
   "mimetype": "text/x-python",
   "name": "python",
   "nbconvert_exporter": "python",
   "pygments_lexer": "ipython3",
   "version": "3.9.12"
  }
 },
 "nbformat": 4,
 "nbformat_minor": 5
}
