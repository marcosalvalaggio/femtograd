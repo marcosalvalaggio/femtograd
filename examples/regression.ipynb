{
 "cells": [
  {
   "attachments": {},
   "cell_type": "markdown",
   "id": "4785376b",
   "metadata": {},
   "source": [
    "## Regression"
   ]
  },
  {
   "cell_type": "code",
   "execution_count": 7,
   "id": "892b5c7e",
   "metadata": {},
   "outputs": [],
   "source": [
    "from sklearn.datasets import make_regression\n",
    "from kiwigrad import MLP, Layer, Value\n",
    "from sklearn.metrics import r2_score\n",
    "import matplotlib.pyplot as plt\n",
    "import time\n",
    "%matplotlib inline"
   ]
  },
  {
   "attachments": {},
   "cell_type": "markdown",
   "id": "206adf7e",
   "metadata": {},
   "source": [
    "### Dataset"
   ]
  },
  {
   "cell_type": "code",
   "execution_count": 8,
   "id": "29291c75",
   "metadata": {},
   "outputs": [
    {
     "name": "stdout",
     "output_type": "stream",
     "text": [
      "(200, 5)\n",
      "(200,)\n",
      "[0.95927083 0.02451017 0.49799829 1.45114361 2.15318246]\n",
      "[172.54436082 -52.9529574   -4.14935233 193.99958991 -66.96262773]\n"
     ]
    }
   ],
   "source": [
    "X, y = make_regression(n_samples=200, n_features=5, n_targets=1, random_state=42)\n",
    "print(X.shape)\n",
    "print(y.shape)\n",
    "print(X[0])\n",
    "print(y[0:5])"
   ]
  },
  {
   "cell_type": "code",
   "execution_count": 9,
   "id": "33a6515c",
   "metadata": {},
   "outputs": [
    {
     "data": {
      "text/plain": [
       "[Value(data=0.959271, grad=0.000000),\n",
       " Value(data=0.024510, grad=0.000000),\n",
       " Value(data=0.497998, grad=0.000000),\n",
       " Value(data=1.451144, grad=0.000000),\n",
       " Value(data=2.153182, grad=0.000000)]"
      ]
     },
     "execution_count": 9,
     "metadata": {},
     "output_type": "execute_result"
    }
   ],
   "source": [
    "inputs = [[Value(i) for i in elem] for elem in X]\n",
    "inputs[0]"
   ]
  },
  {
   "attachments": {},
   "cell_type": "markdown",
   "id": "128c607c",
   "metadata": {},
   "source": [
    "### Multi layer perceptron"
   ]
  },
  {
   "cell_type": "code",
   "execution_count": 10,
   "id": "1295426f",
   "metadata": {},
   "outputs": [
    {
     "name": "stdout",
     "output_type": "stream",
     "text": [
      "Value(data=2.915469, grad=0.000000)\n"
     ]
    }
   ],
   "source": [
    "class PotNet(MLP):\n",
    "    def __init__(self):\n",
    "        layers = [\n",
    "            Layer(nin=5, nout=16, bias=True, activation=\"relu\"),\n",
    "            Layer(nin=16, nout=16, bias=True, activation=\"relu\"),\n",
    "            Layer(nin=16, nout=1, bias=True, activation=\"linear\")\n",
    "        ]\n",
    "        super().__init__(layers=layers)\n",
    "\n",
    "model = PotNet()\n",
    "y_pred = model(inputs[0])\n",
    "print(y_pred)"
   ]
  },
  {
   "attachments": {},
   "cell_type": "markdown",
   "id": "aaf94b9a",
   "metadata": {},
   "source": [
    "### Full batch gradient descent with squared error loss\n",
    "\n",
    "Squared error (squared L2 norm):\n",
    "\n",
    "$$ l(x,y) = L = (\\hat{y}_i - y_i)^2$$\n",
    "\n"
   ]
  },
  {
   "cell_type": "code",
   "execution_count": 11,
   "id": "7608bcf7",
   "metadata": {},
   "outputs": [
    {
     "name": "stdout",
     "output_type": "stream",
     "text": [
      "epoch: 0 | loss: 790.08 | R2: 0.02 | time: 0.09 sec.\n",
      "epoch: 10 | loss: 203.87 | R2: 0.99 | time: 0.07 sec.\n",
      "epoch: 20 | loss: 116.57 | R2: 0.99 | time: 0.07 sec.\n",
      "epoch: 30 | loss: 57.33 | R2: 1.00 | time: 0.07 sec.\n",
      "epoch: 40 | loss: 22.01 | R2: 1.00 | time: 0.07 sec.\n",
      "epoch: 50 | loss: 8.10 | R2: 1.00 | time: 0.07 sec.\n",
      "epoch: 60 | loss: 3.19 | R2: 1.00 | time: 0.07 sec.\n",
      "epoch: 70 | loss: 1.41 | R2: 1.00 | time: 0.08 sec.\n",
      "epoch: 80 | loss: 0.76 | R2: 1.00 | time: 0.08 sec.\n",
      "epoch: 90 | loss: 0.49 | R2: 1.00 | time: 0.16 sec.\n"
     ]
    }
   ],
   "source": [
    "epochs = 100\n",
    "for epoch in range(epochs):\n",
    "    y_pred = []\n",
    "    s = time.monotonic()\n",
    "    for i in range(len(inputs)):\n",
    "        output = model(inputs[i])\n",
    "        y_pred.append(output.data)\n",
    "        target = Value(y[i])\n",
    "        loss = (output - target) ** 2\n",
    "        #loss = (output - target) * (output - target)\n",
    "        loss.backward()\n",
    "        for p in model.parameters():\n",
    "            p.data += -0.00001 * p.grad\n",
    "        model.zero_grad()\n",
    "    e = time.monotonic()\n",
    "    t = e - s\n",
    "    r2 = r2_score(y, y_pred)\n",
    "    if epoch % 10 == 0:\n",
    "        print(f\"epoch: {epoch} | loss: {loss.data:.2f} | R2: {r2:.2f} | time: {t:.2f} sec.\")"
   ]
  },
  {
   "attachments": {},
   "cell_type": "markdown",
   "id": "a9e14b88",
   "metadata": {},
   "source": [
    "### Result"
   ]
  },
  {
   "cell_type": "code",
   "execution_count": 12,
   "id": "5ea303fc",
   "metadata": {},
   "outputs": [
    {
     "data": {
      "image/png": "[encoded data removed]",
      "text/plain": [
       "<Figure size 432x288 with 1 Axes>"
      ]
     },
     "metadata": {
      "needs_background": "light"
     },
     "output_type": "display_data"
    }
   ],
   "source": [
    "x = [i for i in range(len(inputs))]\n",
    "plt.scatter(x, y)\n",
    "plt.scatter(x, y_pred, color='red', alpha=0.3)\n",
    "plt.show()"
   ]
  }
 ],
 "metadata": {
  "kernelspec": {
   "display_name": "Python 3 (ipykernel)",
   "language": "python",
   "name": "python3"
  },
  "language_info": {
   "codemirror_mode": {
    "name": "ipython",
    "version": 3
   },
   "file_extension": ".py",
   "mimetype": "text/x-python",
   "name": "python",
   "nbconvert_exporter": "python",
   "pygments_lexer": "ipython3",
   "version": "3.9.12"
  }
 },
 "nbformat": 4,
 "nbformat_minor": 5
}
