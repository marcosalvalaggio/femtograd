{
 "cells": [
  {
   "attachments": {},
   "cell_type": "markdown",
   "metadata": {},
   "source": [
    "# Regression problem"
   ]
  },
  {
   "cell_type": "code",
   "execution_count": 1,
   "metadata": {},
   "outputs": [],
   "source": [
    "import pandas as pd \n",
    "import numpy as np\n",
    "from kiwigrad import MLP, Value, Layer\n",
    "from sklearn.metrics import r2_score\n",
    "import time"
   ]
  },
  {
   "attachments": {},
   "cell_type": "markdown",
   "metadata": {},
   "source": [
    "### Dataset"
   ]
  },
  {
   "cell_type": "code",
   "execution_count": 2,
   "metadata": {},
   "outputs": [
    {
     "name": "stdout",
     "output_type": "stream",
     "text": [
      "(414, 6)\n"
     ]
    },
    {
     "data": {
      "text/html": [
       "<div>\n",
       "<style scoped>\n",
       "    .dataframe tbody tr th:only-of-type {\n",
       "        vertical-align: middle;\n",
       "    }\n",
       "\n",
       "    .dataframe tbody tr th {\n",
       "        vertical-align: top;\n",
       "    }\n",
       "\n",
       "    .dataframe thead th {\n",
       "        text-align: right;\n",
       "    }\n",
       "</style>\n",
       "<table border=\"1\" class=\"dataframe\">\n",
       "  <thead>\n",
       "    <tr style=\"text-align: right;\">\n",
       "      <th></th>\n",
       "      <th>X1 transaction date</th>\n",
       "      <th>X2 house age</th>\n",
       "      <th>X3 distance to the nearest MRT station</th>\n",
       "      <th>X4 number of convenience stores</th>\n",
       "      <th>X5 latitude</th>\n",
       "      <th>X6 longitude</th>\n",
       "    </tr>\n",
       "  </thead>\n",
       "  <tbody>\n",
       "    <tr>\n",
       "      <th>0</th>\n",
       "      <td>-0.823683</td>\n",
       "      <td>1.255628</td>\n",
       "      <td>-0.792495</td>\n",
       "      <td>2.007407</td>\n",
       "      <td>1.125430</td>\n",
       "      <td>0.448762</td>\n",
       "    </tr>\n",
       "    <tr>\n",
       "      <th>1</th>\n",
       "      <td>-0.823683</td>\n",
       "      <td>0.157086</td>\n",
       "      <td>-0.616612</td>\n",
       "      <td>1.667503</td>\n",
       "      <td>0.912444</td>\n",
       "      <td>0.401139</td>\n",
       "    </tr>\n",
       "    <tr>\n",
       "      <th>2</th>\n",
       "      <td>1.541151</td>\n",
       "      <td>-0.387791</td>\n",
       "      <td>-0.414015</td>\n",
       "      <td>0.307885</td>\n",
       "      <td>1.486860</td>\n",
       "      <td>0.688183</td>\n",
       "    </tr>\n",
       "    <tr>\n",
       "      <th>3</th>\n",
       "      <td>1.246435</td>\n",
       "      <td>-0.387791</td>\n",
       "      <td>-0.414015</td>\n",
       "      <td>0.307885</td>\n",
       "      <td>1.486860</td>\n",
       "      <td>0.688183</td>\n",
       "    </tr>\n",
       "    <tr>\n",
       "      <th>4</th>\n",
       "      <td>-1.121951</td>\n",
       "      <td>-1.117223</td>\n",
       "      <td>-0.549997</td>\n",
       "      <td>0.307885</td>\n",
       "      <td>0.834188</td>\n",
       "      <td>0.592937</td>\n",
       "    </tr>\n",
       "  </tbody>\n",
       "</table>\n",
       "</div>"
      ],
      "text/plain": [
       "   X1 transaction date  X2 house age  X3 distance to the nearest MRT station  \\\n",
       "0            -0.823683      1.255628                               -0.792495   \n",
       "1            -0.823683      0.157086                               -0.616612   \n",
       "2             1.541151     -0.387791                               -0.414015   \n",
       "3             1.246435     -0.387791                               -0.414015   \n",
       "4            -1.121951     -1.117223                               -0.549997   \n",
       "\n",
       "   X4 number of convenience stores  X5 latitude  X6 longitude  \n",
       "0                         2.007407     1.125430      0.448762  \n",
       "1                         1.667503     0.912444      0.401139  \n",
       "2                         0.307885     1.486860      0.688183  \n",
       "3                         0.307885     1.486860      0.688183  \n",
       "4                         0.307885     0.834188      0.592937  "
      ]
     },
     "execution_count": 2,
     "metadata": {},
     "output_type": "execute_result"
    }
   ],
   "source": [
    "X = pd.read_csv(\"data/x.csv\", sep=\";\")\n",
    "print(X.shape)\n",
    "X.head()"
   ]
  },
  {
   "cell_type": "code",
   "execution_count": 3,
   "metadata": {},
   "outputs": [
    {
     "data": {
      "text/plain": [
       "[Value(data=-0.823683, grad=0.000000),\n",
       " Value(data=1.255628, grad=0.000000),\n",
       " Value(data=-0.792495, grad=0.000000),\n",
       " Value(data=2.007407, grad=0.000000),\n",
       " Value(data=1.125430, grad=0.000000),\n",
       " Value(data=0.448762, grad=0.000000)]"
      ]
     },
     "execution_count": 3,
     "metadata": {},
     "output_type": "execute_result"
    }
   ],
   "source": [
    "Xn = X.to_numpy().tolist()\n",
    "inputs = [[Value(i) for i in elem] for elem in Xn]\n",
    "inputs[0]"
   ]
  },
  {
   "cell_type": "code",
   "execution_count": 4,
   "metadata": {},
   "outputs": [
    {
     "name": "stdout",
     "output_type": "stream",
     "text": [
      "(414,)\n"
     ]
    }
   ],
   "source": [
    "y = pd.read_csv(\"data/y.csv\", sep=\";\")\n",
    "y = y.to_numpy().squeeze()\n",
    "print(y.shape)"
   ]
  },
  {
   "attachments": {},
   "cell_type": "markdown",
   "metadata": {},
   "source": [
    "### Multi layer perceptron"
   ]
  },
  {
   "cell_type": "code",
   "execution_count": 5,
   "metadata": {},
   "outputs": [
    {
     "name": "stdout",
     "output_type": "stream",
     "text": [
      "Value(data=-1.170386, grad=0.000000)\n"
     ]
    }
   ],
   "source": [
    "class PotNet(MLP):\n",
    "    def __init__(self):\n",
    "        layers = [\n",
    "            Layer(nin=2, nout=16, bias=True, activation=\"relu\"),\n",
    "            Layer(nin=16, nout=16, bias=True, activation=\"relu\"),\n",
    "            Layer(nin=16, nout=1, bias=True, activation=\"linear\")\n",
    "        ]\n",
    "        super().__init__(layers=layers)\n",
    "\n",
    "model = PotNet()\n",
    "y_pred = model(inputs[0])\n",
    "print(y_pred)"
   ]
  },
  {
   "attachments": {},
   "cell_type": "markdown",
   "metadata": {},
   "source": [
    "### Full battch gradient descent with MSE loss function"
   ]
  },
  {
   "cell_type": "code",
   "execution_count": 6,
   "metadata": {},
   "outputs": [
    {
     "name": "stdout",
     "output_type": "stream",
     "text": [
      "epoch: 1 | loss: 688.63 | time: 0.14 sec.\n",
      "epoch: 2 | loss: 676.58 | time: 0.23 sec.\n",
      "epoch: 3 | loss: 667.44 | time: 0.14 sec.\n",
      "epoch: 4 | loss: 678.55 | time: 0.13 sec.\n",
      "epoch: 5 | loss: 674.23 | time: 0.13 sec.\n",
      "epoch: 6 | loss: 659.47 | time: 0.13 sec.\n",
      "epoch: 7 | loss: 665.66 | time: 0.13 sec.\n"
     ]
    },
    {
     "ename": "",
     "evalue": "",
     "output_type": "error",
     "traceback": [
      "\u001b[1;31mCanceled future for execute_request message before replies were done"
     ]
    },
    {
     "ename": "",
     "evalue": "",
     "output_type": "error",
     "traceback": [
      "\u001b[1;31mSi è verificato un arresto anomalo del kernel durante l'esecuzione del codice nella cella attiva o in una cella precedente. Esaminare il codice nelle celle per identificare una possibile causa dell'errore. Per altre informazioni, fare clic su <a href='https://aka.ms/vscodeJupyterKernelCrash'>here</a>. Per altri dettagli, vedere Jupyter <a href='command:jupyter.viewOutput'>log</a>."
     ]
    }
   ],
   "source": [
    "epochs = 200\n",
    "lr = 0.001\n",
    "for epoch in range(epochs):\n",
    "    s = time.monotonic()\n",
    "    for i in range(len(inputs)):\n",
    "        output = model(inputs[i])\n",
    "        target = Value(y[i])\n",
    "        loss = ((output-target) ** 2)\n",
    "        loss.backward()\n",
    "        for p in model.parameters():\n",
    "            p.data += -lr * p.grad\n",
    "        model.zero_grad()\n",
    "    e = time.monotonic()\n",
    "    t = e - s\n",
    "    if epoch%10:\n",
    "        print(f\"epoch: {epoch} | loss: {loss.data:.2f} | time: {t:.2f} sec.\")"
   ]
  }
 ],
 "metadata": {
  "kernelspec": {
   "display_name": "base",
   "language": "python",
   "name": "python3"
  },
  "language_info": {
   "codemirror_mode": {
    "name": "ipython",
    "version": 3
   },
   "file_extension": ".py",
   "mimetype": "text/x-python",
   "name": "python",
   "nbconvert_exporter": "python",
   "pygments_lexer": "ipython3",
   "version": "3.9.12"
  },
  "orig_nbformat": 4
 },
 "nbformat": 4,
 "nbformat_minor": 2
}
